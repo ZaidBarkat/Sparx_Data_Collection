{
 "cells": [
  {
   "cell_type": "code",
   "execution_count": 23,
   "id": "3f17a9a5",
   "metadata": {},
   "outputs": [],
   "source": [
    "def parse(driver,l):\n",
    "    results = []\n",
    "    count = [0]*len(l)\n",
    "    \n",
    "    #TITLE\n",
    "    titleStr = driver.find_element_by_id(\"title\").text\n",
    "\n",
    "    #print(titleStr)\n",
    "\n",
    "    for x in l:\n",
    "        if x in titleStr:\n",
    "            count[l.index(x)]+=titleStr.count(x)\n",
    "            results.append(x)\n",
    "        \n",
    "        \n",
    "    #ABSTRACT\n",
    "    abstractStr = driver.find_element_by_id(\"abstract\").text\n",
    "\n",
    "    #print(abstractStr)\n",
    "\n",
    "    for x in l:\n",
    "        if x in abstractStr:\n",
    "            count[l.index(x)]+=abstractStr.count(x)\n",
    "\n",
    "        \n",
    "        \n",
    "    #CLAIMS\n",
    "    claims = driver.find_elements_by_class_name(\"claims\")\n",
    "\n",
    "    claimList=[]\n",
    "\n",
    "    for x in claims:\n",
    "        claimList.append(x.text+\"\\n\")\n",
    "    claimStr = \"\"\n",
    "    for x in claimList:\n",
    "        claimStr+=x\n",
    "\n",
    "    #print(claimStr)\n",
    "\n",
    "    for x in l:\n",
    "        if x in claimStr:\n",
    "            count[l.index(x)]+=claimStr.count(x)\n",
    "\n",
    "    for y in l:\n",
    "        if count[l.index(y)]>=3 and y not in results:\n",
    "            results.append(y)\n",
    "    \n",
    "    c = 0\n",
    "    if len(results)==0:\n",
    "        for y in l:\n",
    "            if count[l.index(y)]!=0 and c<2:\n",
    "                results.append(y)\n",
    "                count+=1\n",
    "    \n",
    "    return results\n",
    "        #print(\"Target: \"+y)\n",
    "        #print(\"#s of times seen: \"+str(count[l.index(y)])+\"\\n\")"
   ]
  },
  {
   "cell_type": "code",
   "execution_count": 24,
   "id": "2df75f1d",
   "metadata": {},
   "outputs": [
    {
     "name": "stdout",
     "output_type": "stream",
     "text": [
      "Genes found\n"
     ]
    }
   ],
   "source": [
    "from selenium.webdriver.firefox.firefox_binary import FirefoxBinary\n",
    "from selenium import webdriver\n",
    "import time\n",
    "driver = webdriver.Firefox(executable_path=r'C:\\Users\\jjohn\\Desktop\\Scraping\\geckodriver-v0.29.1-win64\\geckodriver.exe') #make sure this exists somewhere in a local, varies from user to user, and copy the path here\n",
    "\n",
    "driver.get(\"https://patents.google.com/patent/US8536308B2/en?q=IL6&oq=IL6\")\n",
    "\n",
    "time.sleep(5)\n",
    "\n",
    "#GENE ARRAY\n",
    "l = [\"TP53\",\"TNF\",\"EGFR\",\"VEGFA\",\"APOE\",\"IL6\",\"TGFBI\",\"MTHFR\",\"ESR1\",\"AKT1\"]\n",
    "\n",
    "list = parse(driver,l)\n",
    "\n",
    "print(\"Genes found\")\n",
    "for x in list:\n",
    "    print(x)\n",
    "\n",
    "driver.close()"
   ]
  },
  {
   "cell_type": "code",
   "execution_count": null,
   "id": "7aedccc6",
   "metadata": {},
   "outputs": [],
   "source": []
  }
 ],
 "metadata": {
  "kernelspec": {
   "display_name": "Python 3",
   "language": "python",
   "name": "python3"
  },
  "language_info": {
   "codemirror_mode": {
    "name": "ipython",
    "version": 3
   },
   "file_extension": ".py",
   "mimetype": "text/x-python",
   "name": "python",
   "nbconvert_exporter": "python",
   "pygments_lexer": "ipython3",
   "version": "3.8.8"
  }
 },
 "nbformat": 4,
 "nbformat_minor": 5
}
