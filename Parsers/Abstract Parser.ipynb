{
 "cells": [
  {
   "cell_type": "code",
   "execution_count": 1,
   "id": "dc3c612e",
   "metadata": {},
   "outputs": [
    {
     "name": "stdout",
     "output_type": "stream",
     "text": [
      "Abstract\n",
      "The present invention is drawn to diagnosis, prognosis and treatment of multiple myeloma. In this regard, the present invention discloses importance of down-regulation of TP3 gene in multiple myeloma and its use as an independent progostic indicator of multiple myeloma. Additionally, the present invention also discloses novel-TP53 associated genes and demonstrates the clinical relevance of these alterations to disease progression.\n",
      "Target: TP53\n",
      "#s of times seen: 1\n",
      "\n",
      "Target: TNF\n",
      "#s of times seen: 0\n",
      "\n",
      "Target: EGFR\n",
      "#s of times seen: 0\n",
      "\n",
      "Target: VEGFA\n",
      "#s of times seen: 0\n",
      "\n",
      "Target: APOE\n",
      "#s of times seen: 0\n",
      "\n",
      "Target: IL6\n",
      "#s of times seen: 0\n",
      "\n",
      "Target: TGFBI\n",
      "#s of times seen: 0\n",
      "\n",
      "Target: MTHFR\n",
      "#s of times seen: 0\n",
      "\n",
      "Target: ESR1\n",
      "#s of times seen: 0\n",
      "\n",
      "Target: AKT1\n",
      "#s of times seen: 0\n",
      "\n"
     ]
    }
   ],
   "source": [
    "from selenium.webdriver.firefox.firefox_binary import FirefoxBinary\n",
    "from selenium import webdriver\n",
    "import time\n",
    "\n",
    "driver = webdriver.Firefox(executable_path=r'C:\\Users\\jjohn\\Desktop\\Scraping\\geckodriver-v0.29.1-win64\\geckodriver.exe') #make sure this exists somewhere in a local, varies from user to user, and copy the path here\n",
    "\n",
    "driver.get(\"https://patents.google.com/patent/US20080234138A1/en?q=tp53&oq=tp53\")\n",
    "\n",
    "time.sleep(5)\n",
    "\n",
    "abstractStr = driver.find_element_by_id(\"abstract\").text\n",
    "print(abstractStr)\n",
    "\n",
    "l = [\"TP53\",\"TNF\",\"EGFR\",\"VEGFA\",\"APOE\",\"IL6\",\"TGFBI\",\"MTHFR\",\"ESR1\",\"AKT1\"]\n",
    "count = [0]*len(l)\n",
    "\n",
    "for x in l:\n",
    "    if x in abstractStr:\n",
    "        #print(x+\" in str\")\n",
    "        count[l.index(x)]+=abstractStr.count(x)\n",
    "    #else:\n",
    "        #print(x+\" not found.\")\n",
    "\n",
    "for y in l:\n",
    "    print(\"Target: \"+y)\n",
    "    print(\"#s of times seen: \"+str(count[l.index(y)])+\"\\n\")\n",
    "\n",
    "driver.close()"
   ]
  },
  {
   "cell_type": "code",
   "execution_count": null,
   "id": "dcda9ab7",
   "metadata": {},
   "outputs": [],
   "source": []
  }
 ],
 "metadata": {
  "kernelspec": {
   "display_name": "Python 3",
   "language": "python",
   "name": "python3"
  },
  "language_info": {
   "codemirror_mode": {
    "name": "ipython",
    "version": 3
   },
   "file_extension": ".py",
   "mimetype": "text/x-python",
   "name": "python",
   "nbconvert_exporter": "python",
   "pygments_lexer": "ipython3",
   "version": "3.8.8"
  }
 },
 "nbformat": 4,
 "nbformat_minor": 5
}
